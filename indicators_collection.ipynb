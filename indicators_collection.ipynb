{
 "cells": [
  {
   "cell_type": "code",
   "execution_count": null,
   "id": "d4ac9f18",
   "metadata": {},
   "outputs": [],
   "source": [
    "import os\n",
    "import win32com.client as win32\n",
    "from win32com.client import constants\n",
    "\n",
    "import pandas as pd\n",
    "import docx\n",
    "from docx.api import Document\n",
    "from tqdm.notebook import tqdm"
   ]
  },
  {
   "cell_type": "code",
   "execution_count": null,
   "id": "ec3d575b",
   "metadata": {},
   "outputs": [],
   "source": [
    "def to_docx_format(document_path):\n",
    "    if os.path.splitext(os.path.abspath(document_path))[1] in ['.doc', '.DOC']:\n",
    "        document_path = os.path.abspath(document_path)\n",
    "        \n",
    "        word = win32.gencache.EnsureDispatch('Word.Application')\n",
    "        document = word.Documents.Open(document_path)\n",
    "        document.Activate()\n",
    "    \n",
    "        new_document_path = os.path.splitext(os.path.abspath(document_path))[0] + '.docx'\n",
    "        word.ActiveDocument.SaveAs(new_document_path, FileFormat=constants.wdFormatXMLDocument)\n",
    "        document.Close(False)\n",
    "    \n",
    "    return os.path.splitext(os.path.abspath(document_path))[0] + '.docx'"
   ]
  },
  {
   "cell_type": "code",
   "execution_count": null,
   "id": "22e697bc",
   "metadata": {},
   "outputs": [],
   "source": [
    "def document_paths_for_year(year):\n",
    "    data_path = f'./{year}'\n",
    "    document_paths = []\n",
    "    \n",
    "    for folder in os.listdir(data_path):\n",
    "        federal_region_path = os.path.join(data_path, folder)\n",
    "        if os.path.isdir(federal_region_path):\n",
    "            for file_name in os.listdir(federal_region_path):\n",
    "                document_path = to_docx_format(os.path.join(federal_region_path, file_name))\n",
    "                document_paths.append(document_path)\n",
    "    \n",
    "    return document_paths"
   ]
  },
  {
   "cell_type": "code",
   "execution_count": null,
   "id": "14f324c1",
   "metadata": {},
   "outputs": [],
   "source": [
    "def find_values(document_path, indicator):\n",
    "    indicator = indicator.lower()\n",
    "    document = Document(document_path)\n",
    "    for table in document.tables:\n",
    "        for row_number, row in enumerate(table.rows):\n",
    "            for cell in [docx.table._Cell(tc, table) for tc in row._tr.tc_lst]:\n",
    "                if cell.text.lower().find(indicator) >= 0:\n",
    "                    cells = [docx.table._Cell(tc, table) for tc in table.rows[row_number + 2]._tr.tc_lst]\n",
    "                    for index, entry in enumerate(cells):\n",
    "                        if entry.text.lower()[0].isdigit() or entry.text.lower()[0] == '-':\n",
    "                            year = int(os.path.split(os.path.split(os.path.split(document_path)[0])[0])[1])\n",
    "                            if year == 2020:\n",
    "                                return dict([(year - 3 + i, cells[j].text[:5]) for i, j in enumerate(range(index, index + 3))])\n",
    "                            elif year >= 2012 and year <= 2018:\n",
    "                                return dict([(year - 2 + i, cells[j].text[:5]) for i, j in enumerate(range(index, index + 2))])\n",
    "                            else:\n",
    "                                return dict([(year - 2 + i, cells[j].text[:5]) for i, j in enumerate(range(index, index + 1))])\n",
    "    return {}"
   ]
  },
  {
   "cell_type": "code",
   "execution_count": null,
   "id": "fd6fd23c",
   "metadata": {},
   "outputs": [],
   "source": [
    "def find_city(city, text):\n",
    "    for parts in text.split(' '):\n",
    "        for part in parts.split('\\n'):\n",
    "            if part.lower().find(city.lower()) == 0:\n",
    "                return True\n",
    "    return False"
   ]
  },
  {
   "cell_type": "code",
   "execution_count": null,
   "id": "dd692c8c",
   "metadata": {},
   "outputs": [],
   "source": [
    "def get_indicator_values(cities, document_paths, indicator):\n",
    "    values_dict = dict([(city, {}) for city in cities])\n",
    "    \n",
    "    for document_path in tqdm(document_paths):\n",
    "        document = Document(document_path)\n",
    "        text = ''.join([cell.text.lower() for table in document.tables for row in table.rows for cell in [docx.table._Cell(tc, table) for tc in row._tr.tc_lst]])\n",
    "        \n",
    "        not_found = True\n",
    "        for city in cities:\n",
    "            if find_city(city[:int(0.8*len(city)) + 1], document_path.split('_')[-1]):\n",
    "                values_dict[city] = find_values(document_path=document_path, indicator=indicator)\n",
    "                not_found = False\n",
    "                break\n",
    "        if not_found:\n",
    "            for city in cities:\n",
    "                if len(values_dict[city]) == 0 and find_city(city[:int(0.8*len(city)) + 1], text):\n",
    "                    values_dict[city] = find_values(document_path=document_path, indicator=indicator)\n",
    "                    break\n",
    "            \n",
    "    return values_dict"
   ]
  },
  {
   "cell_type": "code",
   "execution_count": null,
   "id": "7e0a0e6e",
   "metadata": {},
   "outputs": [],
   "source": [
    "cities = list(pd.read_excel('Исх данные Города РАНХиГС_2021.xlsx', sheet_name='13.Мощность АПУ')['Наименование города'].dropna())\n",
    "if 'В среднем по Российской Федерации' in cities:\n",
    "    cities.remove('В среднем по Российской Федерации')"
   ]
  },
  {
   "cell_type": "code",
   "execution_count": null,
   "id": "08aa653a",
   "metadata": {},
   "outputs": [],
   "source": [
    "def merge_dicts(dicts):\n",
    "    for key in tqdm(dicts[0].keys()):\n",
    "        dicts[0][key].update(dicts[1][key])"
   ]
  },
  {
   "cell_type": "code",
   "execution_count": null,
   "id": "e6b641d9",
   "metadata": {},
   "outputs": [],
   "source": [
    "values = dict([(city, {}) for city in cities])"
   ]
  },
  {
   "cell_type": "code",
   "execution_count": null,
   "id": "1256da5b",
   "metadata": {
    "scrolled": false
   },
   "outputs": [],
   "source": [
    "for name in os.listdir('./data'):\n",
    "    year = int(name)\n",
    "    print(year)\n",
    "    values_dict = get_indicator_values(cities=cities,\n",
    "                                       document_paths=document_paths_for_year(year=os.path.join('./data', name)),\n",
    "                                       indicator='коек')\n",
    "    merge_dicts([values, values_dict])"
   ]
  },
  {
   "cell_type": "code",
   "execution_count": null,
   "id": "fbab7f75",
   "metadata": {},
   "outputs": [],
   "source": [
    "pd.DataFrame(data=[[values[city].get(year) for year in range(2002, 2020)] for city in cities],\n",
    "             index=cities,\n",
    "             columns=[year for year in range(2002, 2020)]).to_excel('коек_1.xlsx')"
   ]
  }
 ],
 "metadata": {
  "kernelspec": {
   "display_name": "Python 3",
   "language": "python",
   "name": "python3"
  },
  "language_info": {
   "codemirror_mode": {
    "name": "ipython",
    "version": 3
   },
   "file_extension": ".py",
   "mimetype": "text/x-python",
   "name": "python",
   "nbconvert_exporter": "python",
   "pygments_lexer": "ipython3",
   "version": "3.7.4"
  }
 },
 "nbformat": 4,
 "nbformat_minor": 5
}
